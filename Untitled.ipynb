{
 "cells": [
  {
   "cell_type": "code",
   "execution_count": 3,
   "id": "f4eff63c",
   "metadata": {},
   "outputs": [],
   "source": [
    "import pandas as pd "
   ]
  },
  {
   "cell_type": "code",
   "execution_count": 4,
   "id": "03b151f2",
   "metadata": {},
   "outputs": [],
   "source": [
    "df = pd.read_csv(\"world_wide_self_harm_and_substance_deaths.csv\")\n",
    "countryContinent = pd.read_csv(\"countryContinent.csv\", encoding=('ISO-8859-1'),low_memory = False)"
   ]
  },
  {
   "cell_type": "code",
   "execution_count": 4,
   "id": "6246514a",
   "metadata": {},
   "outputs": [
    {
     "name": "stdout",
     "output_type": "stream",
     "text": [
      "Year                                                               98161392\n",
      "Cause                     Intentional self-harmIntentional self-harmInte...\n",
      "Age_Range                 001110-1410-1415-1915-192220-2420-2425-2925-29...\n",
      "ISO_Code                  GBRGBRGBRGBRGBRGBRGBRGBRGBRGBRGBRGBRGBRGBRGBRG...\n",
      "Sex                       FemaleMaleFemaleMaleFemaleMaleFemaleMaleFemale...\n",
      "Deaths                                                              4271214\n",
      "Age_and_Sex_Population                                    46435976150.96431\n",
      "Country                   United KingdomUnited KingdomUnited KingdomUnit...\n",
      "dtype: object\n"
     ]
    }
   ],
   "source": [
    "colsum = pd.DataFrame(df)\n",
    "print(colsum.sum())"
   ]
  },
  {
   "cell_type": "code",
   "execution_count": 5,
   "id": "0e5f7768",
   "metadata": {},
   "outputs": [
    {
     "name": "stdout",
     "output_type": "stream",
     "text": [
      "       Year                                              Cause Age_Range  \\\n",
      "0      2017                              Intentional self-harm         0   \n",
      "1      2017                              Intentional self-harm         0   \n",
      "2      2017                              Intentional self-harm         1   \n",
      "3      2017                              Intentional self-harm         1   \n",
      "4      2017                              Intentional self-harm     10-14   \n",
      "...     ...                                                ...       ...   \n",
      "48626  2017  Mental and behavioural disorders due to psycho...     85-89   \n",
      "48627  2017  Mental and behavioural disorders due to psycho...     90-94   \n",
      "48628  2017  Mental and behavioural disorders due to psycho...       95+   \n",
      "48629  2017  Mental and behavioural disorders due to psycho...       All   \n",
      "48630  2017  Mental and behavioural disorders due to psycho...   Unknown   \n",
      "\n",
      "      ISO_Code     Sex  Deaths  Age_and_Sex_Population               Country  \n",
      "0          GBR  Female       0                743552.0        United Kingdom  \n",
      "1          GBR    Male       0                782850.0        United Kingdom  \n",
      "2          GBR  Female       0                768444.0        United Kingdom  \n",
      "3          GBR    Male       0                810126.0        United Kingdom  \n",
      "4          GBR  Female      16               3640314.0        United Kingdom  \n",
      "...        ...     ...     ...                     ...                   ...  \n",
      "48626      VIR     All       0                     NaN  Virgin Islands (USA)  \n",
      "48627      VIR     All       0                     NaN  Virgin Islands (USA)  \n",
      "48628      VIR     All       0                     NaN  Virgin Islands (USA)  \n",
      "48629      VIR     All       9                101860.0  Virgin Islands (USA)  \n",
      "48630      VIR     All       0                     NaN  Virgin Islands (USA)  \n",
      "\n",
      "[48631 rows x 8 columns]\n"
     ]
    }
   ],
   "source": [
    "print(pd.DataFrame(df))"
   ]
  },
  {
   "cell_type": "code",
   "execution_count": 6,
   "id": "56bbed2d",
   "metadata": {},
   "outputs": [
    {
     "data": {
      "text/plain": [
       "<bound method DataFrame.info of        Year                                              Cause Age_Range  \\\n",
       "0      2017                              Intentional self-harm         0   \n",
       "1      2017                              Intentional self-harm         0   \n",
       "2      2017                              Intentional self-harm         1   \n",
       "3      2017                              Intentional self-harm         1   \n",
       "4      2017                              Intentional self-harm     10-14   \n",
       "...     ...                                                ...       ...   \n",
       "48626  2017  Mental and behavioural disorders due to psycho...     85-89   \n",
       "48627  2017  Mental and behavioural disorders due to psycho...     90-94   \n",
       "48628  2017  Mental and behavioural disorders due to psycho...       95+   \n",
       "48629  2017  Mental and behavioural disorders due to psycho...       All   \n",
       "48630  2017  Mental and behavioural disorders due to psycho...   Unknown   \n",
       "\n",
       "      ISO_Code     Sex  Deaths  Age_and_Sex_Population               Country  \n",
       "0          GBR  Female       0                743552.0        United Kingdom  \n",
       "1          GBR    Male       0                782850.0        United Kingdom  \n",
       "2          GBR  Female       0                768444.0        United Kingdom  \n",
       "3          GBR    Male       0                810126.0        United Kingdom  \n",
       "4          GBR  Female      16               3640314.0        United Kingdom  \n",
       "...        ...     ...     ...                     ...                   ...  \n",
       "48626      VIR     All       0                     NaN  Virgin Islands (USA)  \n",
       "48627      VIR     All       0                     NaN  Virgin Islands (USA)  \n",
       "48628      VIR     All       0                     NaN  Virgin Islands (USA)  \n",
       "48629      VIR     All       9                101860.0  Virgin Islands (USA)  \n",
       "48630      VIR     All       0                     NaN  Virgin Islands (USA)  \n",
       "\n",
       "[48631 rows x 8 columns]>"
      ]
     },
     "execution_count": 6,
     "metadata": {},
     "output_type": "execute_result"
    }
   ],
   "source": [
    "df.info"
   ]
  },
  {
   "cell_type": "code",
   "execution_count": 8,
   "id": "1e1a3cc8",
   "metadata": {},
   "outputs": [
    {
     "data": {
      "text/html": [
       "<div>\n",
       "<style scoped>\n",
       "    .dataframe tbody tr th:only-of-type {\n",
       "        vertical-align: middle;\n",
       "    }\n",
       "\n",
       "    .dataframe tbody tr th {\n",
       "        vertical-align: top;\n",
       "    }\n",
       "\n",
       "    .dataframe thead th {\n",
       "        text-align: right;\n",
       "    }\n",
       "</style>\n",
       "<table border=\"1\" class=\"dataframe\">\n",
       "  <thead>\n",
       "    <tr style=\"text-align: right;\">\n",
       "      <th></th>\n",
       "      <th>Year</th>\n",
       "      <th>Cause</th>\n",
       "      <th>Age_Range</th>\n",
       "      <th>ISO_Code</th>\n",
       "      <th>Sex</th>\n",
       "      <th>Deaths</th>\n",
       "      <th>Age_and_Sex_Population</th>\n",
       "      <th>Country</th>\n",
       "    </tr>\n",
       "  </thead>\n",
       "  <tbody>\n",
       "    <tr>\n",
       "      <th>0</th>\n",
       "      <td>2017</td>\n",
       "      <td>Intentional self-harm</td>\n",
       "      <td>0</td>\n",
       "      <td>GBR</td>\n",
       "      <td>Female</td>\n",
       "      <td>0</td>\n",
       "      <td>743552.0</td>\n",
       "      <td>United Kingdom</td>\n",
       "    </tr>\n",
       "    <tr>\n",
       "      <th>1</th>\n",
       "      <td>2017</td>\n",
       "      <td>Intentional self-harm</td>\n",
       "      <td>0</td>\n",
       "      <td>GBR</td>\n",
       "      <td>Male</td>\n",
       "      <td>0</td>\n",
       "      <td>782850.0</td>\n",
       "      <td>United Kingdom</td>\n",
       "    </tr>\n",
       "    <tr>\n",
       "      <th>2</th>\n",
       "      <td>2017</td>\n",
       "      <td>Intentional self-harm</td>\n",
       "      <td>1</td>\n",
       "      <td>GBR</td>\n",
       "      <td>Female</td>\n",
       "      <td>0</td>\n",
       "      <td>768444.0</td>\n",
       "      <td>United Kingdom</td>\n",
       "    </tr>\n",
       "    <tr>\n",
       "      <th>3</th>\n",
       "      <td>2017</td>\n",
       "      <td>Intentional self-harm</td>\n",
       "      <td>1</td>\n",
       "      <td>GBR</td>\n",
       "      <td>Male</td>\n",
       "      <td>0</td>\n",
       "      <td>810126.0</td>\n",
       "      <td>United Kingdom</td>\n",
       "    </tr>\n",
       "    <tr>\n",
       "      <th>4</th>\n",
       "      <td>2017</td>\n",
       "      <td>Intentional self-harm</td>\n",
       "      <td>10-14</td>\n",
       "      <td>GBR</td>\n",
       "      <td>Female</td>\n",
       "      <td>16</td>\n",
       "      <td>3640314.0</td>\n",
       "      <td>United Kingdom</td>\n",
       "    </tr>\n",
       "  </tbody>\n",
       "</table>\n",
       "</div>"
      ],
      "text/plain": [
       "   Year                  Cause Age_Range ISO_Code     Sex  Deaths  \\\n",
       "0  2017  Intentional self-harm         0      GBR  Female       0   \n",
       "1  2017  Intentional self-harm         0      GBR    Male       0   \n",
       "2  2017  Intentional self-harm         1      GBR  Female       0   \n",
       "3  2017  Intentional self-harm         1      GBR    Male       0   \n",
       "4  2017  Intentional self-harm     10-14      GBR  Female      16   \n",
       "\n",
       "   Age_and_Sex_Population         Country  \n",
       "0                743552.0  United Kingdom  \n",
       "1                782850.0  United Kingdom  \n",
       "2                768444.0  United Kingdom  \n",
       "3                810126.0  United Kingdom  \n",
       "4               3640314.0  United Kingdom  "
      ]
     },
     "execution_count": 8,
     "metadata": {},
     "output_type": "execute_result"
    }
   ],
   "source": [
    "df.head()"
   ]
  },
  {
   "cell_type": "code",
   "execution_count": 9,
   "id": "c6cda1f9",
   "metadata": {},
   "outputs": [
    {
     "name": "stdout",
     "output_type": "stream",
     "text": [
      "<class 'pandas.core.frame.DataFrame'>\n",
      "RangeIndex: 48631 entries, 0 to 48630\n",
      "Data columns (total 8 columns):\n",
      " #   Column                  Non-Null Count  Dtype  \n",
      "---  ------                  --------------  -----  \n",
      " 0   Year                    48631 non-null  int64  \n",
      " 1   Cause                   48631 non-null  object \n",
      " 2   Age_Range               48631 non-null  object \n",
      " 3   ISO_Code                48631 non-null  object \n",
      " 4   Sex                     48631 non-null  object \n",
      " 5   Deaths                  48631 non-null  int64  \n",
      " 6   Age_and_Sex_Population  28987 non-null  float64\n",
      " 7   Country                 48631 non-null  object \n",
      "dtypes: float64(1), int64(2), object(5)\n",
      "memory usage: 3.0+ MB\n"
     ]
    }
   ],
   "source": [
    "df.info()"
   ]
  },
  {
   "cell_type": "code",
   "execution_count": 10,
   "id": "0c1cddf5",
   "metadata": {},
   "outputs": [
    {
     "data": {
      "text/plain": [
       "array(['Intentional self-harm',\n",
       "       'Mental and behavioural disorders due to psychoactive substance use'],\n",
       "      dtype=object)"
      ]
     },
     "execution_count": 10,
     "metadata": {},
     "output_type": "execute_result"
    }
   ],
   "source": [
    "df['Cause'].unique()"
   ]
  },
  {
   "cell_type": "code",
   "execution_count": 11,
   "id": "21790f59",
   "metadata": {},
   "outputs": [
    {
     "data": {
      "text/plain": [
       "array(['0', '1', '10-14', '15-19', '2', '20-24', '25-29', '3', '30-34',\n",
       "       '35-39', '4', '40-44', '45-49', '5-9', '50-54', '55-59', '60-64',\n",
       "       '65-69', '70-74', '75-79', '80-84', '85-89', '90-94', '95+', 'All',\n",
       "       'Unknown', '1-4', '85+', '15-24', '25-34', '35-44', '45-54',\n",
       "       '5-14', '55-64', '65-74', '75+'], dtype=object)"
      ]
     },
     "execution_count": 11,
     "metadata": {},
     "output_type": "execute_result"
    }
   ],
   "source": [
    "df['Age_Range'].unique()"
   ]
  },
  {
   "cell_type": "code",
   "execution_count": 17,
   "id": "503ff630",
   "metadata": {},
   "outputs": [
    {
     "name": "stdout",
     "output_type": "stream",
     "text": [
      "<class 'pandas.core.frame.DataFrame'>\n",
      "RangeIndex: 35085 entries, 0 to 35084\n",
      "Data columns (total 8 columns):\n",
      " #   Column                  Non-Null Count  Dtype  \n",
      "---  ------                  --------------  -----  \n",
      " 0   Year                    35085 non-null  int64  \n",
      " 1   Cause                   35085 non-null  object \n",
      " 2   Age_Range               35085 non-null  object \n",
      " 3   ISO_Code                35085 non-null  object \n",
      " 4   Sex                     35085 non-null  object \n",
      " 5   Deaths                  35085 non-null  int64  \n",
      " 6   Age_and_Sex_Population  20760 non-null  float64\n",
      " 7   Country                 35085 non-null  object \n",
      "dtypes: float64(1), int64(2), object(5)\n",
      "memory usage: 2.1+ MB\n"
     ]
    }
   ],
   "source": [
    "delete_age = ['0', '1', '2', '3', '4', 'All', 'Unknown', '85+', '15-24', '25-34', \n",
    "              '35-44', '45-54','5-14', '55-64', '65-74', '75+']\n",
    "\n",
    "df = df[~df['Age_Range'].isin(delete_age)].reset_index(drop = True)\n",
    "\n",
    "df"
   ]
  },
  {
   "cell_type": "code",
   "execution_count": 13,
   "id": "4896a6f1",
   "metadata": {},
   "outputs": [
    {
     "data": {
      "text/plain": [
       "array(['GBR', 'EGY', 'LBY', 'MUS', 'SYC', 'ZAF', 'TUN', 'AIA', 'ATG',\n",
       "       'ARG', 'ABW', 'BMU', 'BRA', 'CAN', 'CHL', 'COL', 'CRI', 'CUB',\n",
       "       'DMA', 'DOM', 'ECU', 'SLV', 'GRD', 'GTM', 'GUY', 'MEX', 'NIC',\n",
       "       'PAN', 'PRY', 'PER', 'PRI', 'LCA', 'VCT', 'TCA', 'USA', 'VIR',\n",
       "       'URY', 'BRN', 'CYP', 'HKG', 'ISR', 'JPN', 'JOR', 'KWT', 'LBN',\n",
       "       'MYS', 'MDV', 'MNG', 'PSE', 'OMN', 'PHL', 'QAT', 'KOR', 'SGP',\n",
       "       'THA', 'TUR', 'ARE', 'ARM', 'AUT', 'BLR', 'BEL', 'BIH', 'BGR',\n",
       "       'HRV', 'CZE', 'DNK', 'EST', 'FIN', 'FRA', 'GEO', 'DEU', 'GRC',\n",
       "       'HUN', 'ISL', 'IRL', 'ITA', 'KAZ', 'KGZ', 'LVA', 'LTU', 'LUX',\n",
       "       'MKD', 'MLT', 'MNE', 'NLD', 'POL', 'PRT', 'MDA', 'ROU', 'RUS',\n",
       "       'SRB', 'SVK', 'SVN', 'ESP', 'SWE', 'CHE', 'TJK', 'UKR', 'UZB',\n",
       "       'AUS', 'SLB'], dtype=object)"
      ]
     },
     "execution_count": 13,
     "metadata": {},
     "output_type": "execute_result"
    }
   ],
   "source": [
    "df['ISO_Code'].unique()"
   ]
  },
  {
   "cell_type": "code",
   "execution_count": 19,
   "id": "e9a2e12c",
   "metadata": {},
   "outputs": [
    {
     "data": {
      "text/html": [
       "<div>\n",
       "<style scoped>\n",
       "    .dataframe tbody tr th:only-of-type {\n",
       "        vertical-align: middle;\n",
       "    }\n",
       "\n",
       "    .dataframe tbody tr th {\n",
       "        vertical-align: top;\n",
       "    }\n",
       "\n",
       "    .dataframe thead th {\n",
       "        text-align: right;\n",
       "    }\n",
       "</style>\n",
       "<table border=\"1\" class=\"dataframe\">\n",
       "  <thead>\n",
       "    <tr style=\"text-align: right;\">\n",
       "      <th></th>\n",
       "      <th>Year</th>\n",
       "      <th>Cause</th>\n",
       "      <th>Age_Range</th>\n",
       "      <th>ISO_Code</th>\n",
       "      <th>Sex</th>\n",
       "      <th>Deaths</th>\n",
       "      <th>Age_and_Sex_Population</th>\n",
       "      <th>Country</th>\n",
       "    </tr>\n",
       "  </thead>\n",
       "  <tbody>\n",
       "    <tr>\n",
       "      <th>0</th>\n",
       "      <td>2017</td>\n",
       "      <td>Intentional self-harm</td>\n",
       "      <td>10-14</td>\n",
       "      <td>GBR</td>\n",
       "      <td>Female</td>\n",
       "      <td>16</td>\n",
       "      <td>3640314.0</td>\n",
       "      <td>United Kingdom</td>\n",
       "    </tr>\n",
       "    <tr>\n",
       "      <th>1</th>\n",
       "      <td>2017</td>\n",
       "      <td>Intentional self-harm</td>\n",
       "      <td>10-14</td>\n",
       "      <td>GBR</td>\n",
       "      <td>Male</td>\n",
       "      <td>16</td>\n",
       "      <td>3826458.0</td>\n",
       "      <td>United Kingdom</td>\n",
       "    </tr>\n",
       "    <tr>\n",
       "      <th>2</th>\n",
       "      <td>2017</td>\n",
       "      <td>Intentional self-harm</td>\n",
       "      <td>15-19</td>\n",
       "      <td>GBR</td>\n",
       "      <td>Female</td>\n",
       "      <td>104</td>\n",
       "      <td>3605202.0</td>\n",
       "      <td>United Kingdom</td>\n",
       "    </tr>\n",
       "    <tr>\n",
       "      <th>3</th>\n",
       "      <td>2017</td>\n",
       "      <td>Intentional self-harm</td>\n",
       "      <td>15-19</td>\n",
       "      <td>GBR</td>\n",
       "      <td>Male</td>\n",
       "      <td>208</td>\n",
       "      <td>3803268.0</td>\n",
       "      <td>United Kingdom</td>\n",
       "    </tr>\n",
       "    <tr>\n",
       "      <th>4</th>\n",
       "      <td>2017</td>\n",
       "      <td>Intentional self-harm</td>\n",
       "      <td>20-24</td>\n",
       "      <td>GBR</td>\n",
       "      <td>Female</td>\n",
       "      <td>136</td>\n",
       "      <td>4097544.0</td>\n",
       "      <td>United Kingdom</td>\n",
       "    </tr>\n",
       "  </tbody>\n",
       "</table>\n",
       "</div>"
      ],
      "text/plain": [
       "   Year                  Cause Age_Range ISO_Code     Sex  Deaths  \\\n",
       "0  2017  Intentional self-harm     10-14      GBR  Female      16   \n",
       "1  2017  Intentional self-harm     10-14      GBR    Male      16   \n",
       "2  2017  Intentional self-harm     15-19      GBR  Female     104   \n",
       "3  2017  Intentional self-harm     15-19      GBR    Male     208   \n",
       "4  2017  Intentional self-harm     20-24      GBR  Female     136   \n",
       "\n",
       "   Age_and_Sex_Population         Country  \n",
       "0               3640314.0  United Kingdom  \n",
       "1               3826458.0  United Kingdom  \n",
       "2               3605202.0  United Kingdom  \n",
       "3               3803268.0  United Kingdom  \n",
       "4               4097544.0  United Kingdom  "
      ]
     },
     "execution_count": 19,
     "metadata": {},
     "output_type": "execute_result"
    }
   ],
   "source": [
    "df.head()"
   ]
  },
  {
   "cell_type": "markdown",
   "id": "4de519bb",
   "metadata": {},
   "source": [
    "# Markdown \n",
    "# Just another check point"
   ]
  },
  {
   "cell_type": "code",
   "execution_count": 28,
   "id": "ea917506",
   "metadata": {},
   "outputs": [],
   "source": [
    "df2 = pd.read_csv(\"world_wide_self_harm_and_substance_deaths.csv\")"
   ]
  },
  {
   "cell_type": "code",
   "execution_count": 29,
   "id": "7e42e8cc",
   "metadata": {},
   "outputs": [
    {
     "data": {
      "text/plain": [
       "array(['0', '1', '10-14', '15-19', '2', '20-24', '25-29', '3', '30-34',\n",
       "       '35-39', '4', '40-44', '45-49', '5-9', '50-54', '55-59', '60-64',\n",
       "       '65-69', '70-74', '75-79', '80-84', '85-89', '90-94', '95+', 'All',\n",
       "       'Unknown', '1-4', '85+', '15-24', '25-34', '35-44', '45-54',\n",
       "       '5-14', '55-64', '65-74', '75+'], dtype=object)"
      ]
     },
     "execution_count": 29,
     "metadata": {},
     "output_type": "execute_result"
    }
   ],
   "source": [
    "df2['Age_Range'].unique()"
   ]
  },
  {
   "cell_type": "code",
   "execution_count": 30,
   "id": "3beb6532",
   "metadata": {},
   "outputs": [
    {
     "data": {
      "text/plain": [
       "array(['10-14', '15-19', '20-24', '25-29', '30-34', '35-39', '40-44',\n",
       "       '45-49', '5-9', '50-54', '55-59', '60-64', '65-69', '70-74',\n",
       "       '75-79', '80-84', '85-89', '90-94', '95+', '85+', '75+'],\n",
       "      dtype=object)"
      ]
     },
     "execution_count": 30,
     "metadata": {},
     "output_type": "execute_result"
    }
   ],
   "source": [
    "delete_age2 = ['0', '1', '2', '3', '4', 'All', 'Unknown', '1-4','15-24', '25-34', \n",
    "              '35-44', '45-54','5-14', '55-64', '65-74']\n",
    "\n",
    "df2 = df2[~df2['Age_Range'].isin(delete_age2)].reset_index(drop = True)\n",
    "\n",
    "df2['Age_Range'].unique()"
   ]
  },
  {
   "cell_type": "code",
   "execution_count": 31,
   "id": "f1c9a0ed",
   "metadata": {},
   "outputs": [
    {
     "data": {
      "text/plain": [
       "array(['Female', 'Male', 'Unspecified', 'All'], dtype=object)"
      ]
     },
     "execution_count": 31,
     "metadata": {},
     "output_type": "execute_result"
    }
   ],
   "source": [
    "df2['Sex'].unique()"
   ]
  },
  {
   "cell_type": "code",
   "execution_count": 32,
   "id": "4d605d4d",
   "metadata": {},
   "outputs": [
    {
     "data": {
      "text/plain": [
       "array(['Female', 'Male'], dtype=object)"
      ]
     },
     "execution_count": 32,
     "metadata": {},
     "output_type": "execute_result"
    }
   ],
   "source": [
    "delete_sex = ['Unspecified', 'All']\n",
    "\n",
    "df2 = df2[~df2['Sex'].isin(delete_sex)].reset_index(drop = True)\n",
    "\n",
    "df2['Sex'].unique()"
   ]
  },
  {
   "cell_type": "code",
   "execution_count": 42,
   "id": "6da3b462",
   "metadata": {},
   "outputs": [
    {
     "data": {
      "text/plain": [
       "array(['10-14', '15-19', '20-24', '25-29', '30-34', '35-39', '40-44',\n",
       "       '45-49', '5-9', '50-54', '55-59', '60-64', '65-69', '70-74',\n",
       "       '75-79', '80-84', '85-89', '90-94', '95+'], dtype=object)"
      ]
     },
     "execution_count": 42,
     "metadata": {},
     "output_type": "execute_result"
    }
   ],
   "source": [
    "df2 = df2.replace(['75+', '85+', '5-9', '10-14'],\n",
    "                 ['75-79', '85-89', '5-9', '10-14'])\n",
    "\n",
    "df2['Age_Range'].unique()"
   ]
  },
  {
   "cell_type": "code",
   "execution_count": 40,
   "id": "0ca82b29",
   "metadata": {},
   "outputs": [],
   "source": [
    "df2.to_csv('Cleaned_Self Harm and Substance Abuse Deaths Worldwide3.csv')"
   ]
  },
  {
   "cell_type": "code",
   "execution_count": 35,
   "id": "2963373e",
   "metadata": {},
   "outputs": [
    {
     "data": {
      "text/plain": [
       "0        10-14\n",
       "1        10-14\n",
       "2        15-19\n",
       "3        15-19\n",
       "4        20-24\n",
       "         ...  \n",
       "22748    75-79\n",
       "22749    80-84\n",
       "22750    85-89\n",
       "22751    90-94\n",
       "22752      95+\n",
       "Name: Age_Range, Length: 22753, dtype: object"
      ]
     },
     "execution_count": 35,
     "metadata": {},
     "output_type": "execute_result"
    }
   ],
   "source": [
    "df2['Age_Range']"
   ]
  },
  {
   "cell_type": "code",
   "execution_count": null,
   "id": "209ab7ab",
   "metadata": {},
   "outputs": [],
   "source": []
  }
 ],
 "metadata": {
  "kernelspec": {
   "display_name": "Python 3 (ipykernel)",
   "language": "python",
   "name": "python3"
  },
  "language_info": {
   "codemirror_mode": {
    "name": "ipython",
    "version": 3
   },
   "file_extension": ".py",
   "mimetype": "text/x-python",
   "name": "python",
   "nbconvert_exporter": "python",
   "pygments_lexer": "ipython3",
   "version": "3.11.5"
  }
 },
 "nbformat": 4,
 "nbformat_minor": 5
}
